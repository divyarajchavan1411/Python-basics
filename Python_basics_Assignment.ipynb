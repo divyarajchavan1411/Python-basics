{
  "nbformat": 4,
  "nbformat_minor": 0,
  "metadata": {
    "colab": {
      "provenance": []
    },
    "kernelspec": {
      "name": "python3",
      "display_name": "Python 3"
    },
    "language_info": {
      "name": "python"
    }
  },
  "cells": [
    {
      "cell_type": "code",
      "execution_count": null,
      "metadata": {
        "id": "jB6eLQMQv1Rh"
      },
      "outputs": [],
      "source": []
    },
    {
      "cell_type": "markdown",
      "source": [
        "1) What is Python, and why is it popular?\n",
        " - Python is a high-level, interpreted programming language known for its simplicity and readability.\n",
        "- Created by Guido van Rossum in 1991, it is widely used in web development, data science, artificial intelligence, automation, and more.\n",
        "- Python's easy-to-read syntax, vast libraries (like NumPy, TensorFlow, and Django), and strong community support make it popular among beginners and experts."
      ],
      "metadata": {
        "id": "JlpZiKbBLJ9O"
      }
    },
    {
      "cell_type": "markdown",
      "source": [
        "2) What is an interpreter in Python ?\n",
        " - An interpreter in Python is a program that reads and executes Python code line by line rather than compiling the entire code at once. This makes Python an interpreted language, allowing for easier debugging and faster testing."
      ],
      "metadata": {
        "id": "7yzZChRbMMa3"
      }
    },
    {
      "cell_type": "markdown",
      "source": [
        "3) What are pre-defined keywords in Python?\n",
        " - Pre-defined keywords in Python are reserved words with special meanings that cannot be used as variable names. Examples include if, else, while, for, def, class, import, try, except, return, True, False, None. These keywords help define Python’s syntax and structure, enabling functions, loops, conditions, and exception handling."
      ],
      "metadata": {
        "id": "N5zUsFzYMhqc"
      }
    },
    {
      "cell_type": "markdown",
      "source": [
        "4) Can keywords be used as variable names?\n",
        "- No, keywords cannot be used as variable names in Python because they have predefined meanings in the language. Using a keyword as a variable name will result in a SyntaxError.\n",
        "- For example, if = 10 is invalid. To check keywords in Python, use import keyword; print(keyword.kwlist)."
      ],
      "metadata": {
        "id": "rAfU5U5MNEGP"
      }
    },
    {
      "cell_type": "markdown",
      "source": [
        "5) What is mutability in Python ?\n",
        "- Mutability in Python refers to an object's ability to be changed after creation. Mutable objects (e.g., lists, dictionaries, sets) can be modified, while immutable objects (e.g., tuples, strings, integers) cannot.\n",
        "- Mutability affects performance, memory usage, and behavior when passing objects to functions."
      ],
      "metadata": {
        "id": "V3Wa1EiVN0TY"
      }
    },
    {
      "cell_type": "markdown",
      "source": [
        "6)  Why are lists mutable, but tuples are immutable ?\n",
        "- Lists are mutable because they allow modification, like adding, removing, or changing elements.\n",
        "- Tuples are immutable to ensure data integrity and optimize performance. Python stores tuples in a way that reduces memory usage and increases speed. This immutability makes tuples hashable, allowing them to be used as dictionary keys."
      ],
      "metadata": {
        "id": "L4YM0lesOUzY"
      }
    },
    {
      "cell_type": "markdown",
      "source": [
        "7)What is the difference between “==” and “is” operators in Python ?\n",
        "- '==' checks value equality, meaning it compares whether two variables have the same data.\n",
        "- 'is' checks identity equality, meaning it verifies if two variables refer to the same memory location.\n",
        "- For example, a == b may be True, but a is b can be False if they are different objects."
      ],
      "metadata": {
        "id": "8_lYGn7jOzEE"
      }
    },
    {
      "cell_type": "markdown",
      "source": [
        "8) What are logical operators in Python ?\n",
        "- Logical operators in Python are used to combine conditional statements and return Boolean values (True or False). The three main logical operators are:\n",
        "\n",
        "- and – Returns True if both conditions are true (x > 5 and x < 10).\n",
        "- or – Returns True if at least one condition is true (x < 5 or x > 10).\n",
        "- not – Reverses the Boolean value (not True becomes False).\n",
        "- These operators are commonly used in decision-making, loops, and conditional expressions to control program flow. They help evaluate complex conditions efficiently. Python follows short-circuit evaluation, meaning it stops checking as soon as the result is determined."
      ],
      "metadata": {
        "id": "18qHNnpZPW-2"
      }
    },
    {
      "cell_type": "markdown",
      "source": [
        "9)What is type casting in Python ?\n",
        "- Type casting in Python converts one data type into another. It can be implicit (done automatically, e.g., int to float) or explicit (manually using functions like int(), float(), str(), list()).\n",
        "- Type casting ensures compatibility between different data types, preventing errors in calculations and data processing."
      ],
      "metadata": {
        "id": "sq20kxO5QVrv"
      }
    },
    {
      "cell_type": "markdown",
      "source": [
        "10)What is the difference between implicit and explicit type casting ?\n",
        "- Implicit type casting is automatically done by Python when converting smaller data types to larger ones (e.g., int to float). Explicit type casting requires manual conversion using functions like int(), float(), or str(). Explicit casting is needed when Python cannot automatically convert types without potential data loss."
      ],
      "metadata": {
        "id": "_izLAi1AQy02"
      }
    },
    {
      "cell_type": "markdown",
      "source": [
        "11)What is the purpose of conditional statements in Python ?\n",
        "- Conditional statements in Python control the flow of execution based on conditions. They include if, elif, and else, allowing a program to make decisions. If a condition is True, a specific block runs; otherwise, it is skipped. This helps create dynamic, responsive programs by handling different scenarios efficiently."
      ],
      "metadata": {
        "id": "dfv9VMufRQyl"
      }
    },
    {
      "cell_type": "markdown",
      "source": [
        "12) How does the elif statement work ?\n",
        "- The elif (short for \"else if\") statement in Python allows multiple conditions to be checked sequentially. If the if condition is False, Python evaluates the elif conditions one by one. The first elif that evaluates to True executes its block, skipping the rest. If none are True, the optional else block runs."
      ],
      "metadata": {
        "id": "7O6ApDj_RpVl"
      }
    },
    {
      "cell_type": "code",
      "source": [
        "num = 10\n",
        "\n",
        "if num > 20:\n",
        "    print(\"Greater than 20\")\n",
        "elif num > 15:\n",
        "    print(\"Greater than 15\")\n",
        "elif num > 5:\n",
        "    print(\"Greater than 5\")  # This runs\n",
        "else:\n",
        "    print(\"5 or less\")"
      ],
      "metadata": {
        "colab": {
          "base_uri": "https://localhost:8080/"
        },
        "id": "fNkvNBzUSLBz",
        "outputId": "66d97e5b-d3e8-48a5-ecc8-014cceee33c3"
      },
      "execution_count": null,
      "outputs": [
        {
          "output_type": "stream",
          "name": "stdout",
          "text": [
            "Greater than 5\n"
          ]
        }
      ]
    },
    {
      "cell_type": "markdown",
      "source": [
        "13) What is the difference between for and while loops ?\n",
        "- A for loop is used when the number of iterations is known, iterating over sequences like lists or ranges (for i in range(5)). A while loop runs as long as a condition remains True (while x < 5). For loops are preferred for fixed iterations, while loops for unknown repetitions."
      ],
      "metadata": {
        "id": "NZDxkcrfSdkV"
      }
    },
    {
      "cell_type": "markdown",
      "source": [
        "14) Describe a scenario where a while loop is more suitable than a for loop.\n",
        "- A while loop is more suitable when the number of iterations is unknown and depends on a condition. For example, in a user authentication system, a program can repeatedly prompt for a password until the user enters the correct one:"
      ],
      "metadata": {
        "id": "TOoRWjkVS82G"
      }
    },
    {
      "cell_type": "code",
      "source": [
        "password = \"secure123\"\n",
        "user_input = \"\"\n",
        "\n",
        "while user_input != password:\n",
        "    user_input = input(\"Enter password: \")\n",
        "\n",
        "print(\"Access granted!\")"
      ],
      "metadata": {
        "colab": {
          "base_uri": "https://localhost:8080/"
        },
        "id": "Ae5V1e9FTk1W",
        "outputId": "05ff79bf-1ba3-442b-f9ad-27207de82e95"
      },
      "execution_count": null,
      "outputs": [
        {
          "output_type": "stream",
          "name": "stdout",
          "text": [
            "Enter password: secure123\n",
            "Access granted!\n"
          ]
        }
      ]
    },
    {
      "cell_type": "markdown",
      "source": [
        "Here, the loop runs until the user provides the correct password, making a while loop ideal. A for loop wouldn't work well because the number of attempts is unpredictable. While loops are best for scenarios requiring indefinite execution based on conditions."
      ],
      "metadata": {
        "id": "WdPT7_AoT1iX"
      }
    },
    {
      "cell_type": "markdown",
      "source": [
        "# Practical Questions"
      ],
      "metadata": {
        "id": "8cnnLJZnT_Fu"
      }
    },
    {
      "cell_type": "markdown",
      "source": [
        "1) Write a Python program to print \"Hello, World!\".\n"
      ],
      "metadata": {
        "id": "5PySsp8MnJ32"
      }
    },
    {
      "cell_type": "code",
      "source": [
        "print(\"Hello, World!\")"
      ],
      "metadata": {
        "colab": {
          "base_uri": "https://localhost:8080/"
        },
        "id": "T6qg7-XunYpI",
        "outputId": "fff4cadd-e558-4808-9e07-fcd7ccedb67d"
      },
      "execution_count": 1,
      "outputs": [
        {
          "output_type": "stream",
          "name": "stdout",
          "text": [
            "Hello, World!\n"
          ]
        }
      ]
    },
    {
      "cell_type": "markdown",
      "source": [
        "2)Write a Python program that displays your name and age"
      ],
      "metadata": {
        "id": "RzYu5k48nlHW"
      }
    },
    {
      "cell_type": "code",
      "source": [
        "name=\"Divyaraj\"\n",
        "age = 32\n",
        "print(\"My name is \",name)\n",
        "print(\"I am\",age, \"years old\")"
      ],
      "metadata": {
        "colab": {
          "base_uri": "https://localhost:8080/"
        },
        "id": "4Es5QtpbohpR",
        "outputId": "0d455f17-2e22-45e6-8434-80f28da50722"
      },
      "execution_count": 2,
      "outputs": [
        {
          "output_type": "stream",
          "name": "stdout",
          "text": [
            "My name is  Divyaraj\n",
            "I am 32 years old\n"
          ]
        }
      ]
    },
    {
      "cell_type": "markdown",
      "source": [
        "3) Write code to print all the pre-defined keywords in Python using the keyword library"
      ],
      "metadata": {
        "id": "TpoeUuyxpGsP"
      }
    },
    {
      "cell_type": "code",
      "source": [
        "import keyword\n",
        "print(\"Python keywords:\")\n",
        "print(keyword.kwlist)"
      ],
      "metadata": {
        "colab": {
          "base_uri": "https://localhost:8080/"
        },
        "id": "FSTO6FINph5S",
        "outputId": "d433f293-e2ba-4241-bd83-a99faa332433"
      },
      "execution_count": 3,
      "outputs": [
        {
          "output_type": "stream",
          "name": "stdout",
          "text": [
            "Python keywords:\n",
            "['False', 'None', 'True', 'and', 'as', 'assert', 'async', 'await', 'break', 'class', 'continue', 'def', 'del', 'elif', 'else', 'except', 'finally', 'for', 'from', 'global', 'if', 'import', 'in', 'is', 'lambda', 'nonlocal', 'not', 'or', 'pass', 'raise', 'return', 'try', 'while', 'with', 'yield']\n"
          ]
        }
      ]
    },
    {
      "cell_type": "markdown",
      "source": [
        "4) Write a program that checks if a given word is a Python keyword"
      ],
      "metadata": {
        "id": "UmgjLzqBqNXL"
      }
    },
    {
      "cell_type": "markdown",
      "source": [
        "4)"
      ],
      "metadata": {
        "id": "GtifZtospq95"
      }
    },
    {
      "cell_type": "code",
      "source": [
        "import keyword\n",
        "\n",
        "# Get user input\n",
        "word = input(\"Enter a word: \")\n",
        "\n",
        "# Check if it's a Python keyword\n",
        "if keyword.iskeyword(word):\n",
        "    print(f\"'{word}' is a Python keyword.\")\n",
        "else:\n",
        "    print(f\"'{word}' is NOT a Python keyword.\")"
      ],
      "metadata": {
        "colab": {
          "base_uri": "https://localhost:8080/"
        },
        "id": "SLyRG7saqDrc",
        "outputId": "5b4b9fe2-e509-478d-e0a3-fe0135e2adea"
      },
      "execution_count": 4,
      "outputs": [
        {
          "output_type": "stream",
          "name": "stdout",
          "text": [
            "Enter a word: def\n",
            "'def' is a Python keyword.\n"
          ]
        }
      ]
    },
    {
      "cell_type": "markdown",
      "source": [
        "5) Create a list and tuple in Python, and demonstrate how attempting to change an element works differently\n",
        "for each."
      ],
      "metadata": {
        "id": "byaF6U4GqYMb"
      }
    },
    {
      "cell_type": "code",
      "source": [
        "list1=[1,23,4,\"Dvyaraj\"]\n",
        "list1"
      ],
      "metadata": {
        "colab": {
          "base_uri": "https://localhost:8080/"
        },
        "id": "sx2tmKnYqnqi",
        "outputId": "f29def28-abd0-4eed-a563-8d956011dea7"
      },
      "execution_count": 6,
      "outputs": [
        {
          "output_type": "execute_result",
          "data": {
            "text/plain": [
              "[1, 23, 4, 'Dvyaraj']"
            ]
          },
          "metadata": {},
          "execution_count": 6
        }
      ]
    },
    {
      "cell_type": "code",
      "source": [
        "list1[0]=100\n",
        "list1"
      ],
      "metadata": {
        "id": "MVnDTo_0SWuK",
        "colab": {
          "base_uri": "https://localhost:8080/"
        },
        "outputId": "fd0a23c7-d7a3-42c2-92d8-c7bc688f4416"
      },
      "execution_count": 9,
      "outputs": [
        {
          "output_type": "execute_result",
          "data": {
            "text/plain": [
              "[100, 23, 4, 'Dvyaraj']"
            ]
          },
          "metadata": {},
          "execution_count": 9
        }
      ]
    },
    {
      "cell_type": "code",
      "source": [
        "tuple1=(1,2,3,\"ds\")\n",
        "tuple(1)=200\n",
        "tuple1"
      ],
      "metadata": {
        "colab": {
          "base_uri": "https://localhost:8080/",
          "height": 106
        },
        "id": "QcIk7tIvrDW_",
        "outputId": "495caee0-c875-457a-ddf1-cc241a55320c"
      },
      "execution_count": 10,
      "outputs": [
        {
          "output_type": "error",
          "ename": "SyntaxError",
          "evalue": "cannot assign to function call here. Maybe you meant '==' instead of '='? (<ipython-input-10-8bd059ac66b2>, line 2)",
          "traceback": [
            "\u001b[0;36m  File \u001b[0;32m\"<ipython-input-10-8bd059ac66b2>\"\u001b[0;36m, line \u001b[0;32m2\u001b[0m\n\u001b[0;31m    tuple(1)=200\u001b[0m\n\u001b[0m    ^\u001b[0m\n\u001b[0;31mSyntaxError\u001b[0m\u001b[0;31m:\u001b[0m cannot assign to function call here. Maybe you meant '==' instead of '='?\n"
          ]
        }
      ]
    },
    {
      "cell_type": "markdown",
      "source": [
        "6)Write a function to demonstrate the behavior of mutable and immutable arguments"
      ],
      "metadata": {
        "id": "SBcjAnEertmu"
      }
    },
    {
      "cell_type": "code",
      "source": [
        "def modify_values(immutable_var, mutable_var):\n",
        "    # Trying to modify an immutable variable (integer)\n",
        "    immutable_var += 10  # This creates a new integer object\n",
        "\n",
        "    # Modifying a mutable variable (list)\n",
        "    mutable_var.append(4)  # This modifies the original list\n",
        "\n",
        "    print(\"Inside function:\")\n",
        "    print(\"Immutable variable:\", immutable_var)\n",
        "    print(\"Mutable variable:\", mutable_var)\n",
        "\n",
        "\n",
        "# Immutable variable (integer)\n",
        "num = 5\n",
        "\n",
        "# Mutable variable (list)\n",
        "num_list = [1, 2, 3]\n",
        "\n",
        "# Function call\n",
        "modify_values(num, num_list)\n",
        "\n",
        "print(\"\\nOutside function:\")\n",
        "print(\"Immutable variable:\", num)  # Unchanged\n",
        "print(\"Mutable variable:\", num_list)  # Changed"
      ],
      "metadata": {
        "colab": {
          "base_uri": "https://localhost:8080/"
        },
        "id": "tvVlolX-r4FH",
        "outputId": "9809d75a-a2f4-4ccf-c2fd-7ed08ee248ea"
      },
      "execution_count": 11,
      "outputs": [
        {
          "output_type": "stream",
          "name": "stdout",
          "text": [
            "Inside function:\n",
            "Immutable variable: 15\n",
            "Mutable variable: [1, 2, 3, 4]\n",
            "\n",
            "Outside function:\n",
            "Immutable variable: 5\n",
            "Mutable variable: [1, 2, 3, 4]\n"
          ]
        }
      ]
    },
    {
      "cell_type": "markdown",
      "source": [
        "7)Write a program that performs basic arithmetic operations on two user-input numbers"
      ],
      "metadata": {
        "id": "5PC5LampsrE6"
      }
    },
    {
      "cell_type": "code",
      "source": [
        "a=10\n",
        "b=5\n",
        "print(a+b)\n",
        "print(a-b)\n",
        "print(a*b)\n",
        "print(a/b)"
      ],
      "metadata": {
        "colab": {
          "base_uri": "https://localhost:8080/"
        },
        "id": "sgnLq-t8s42d",
        "outputId": "16d4028a-bc7b-467d-b0d6-2d87248a800f"
      },
      "execution_count": 12,
      "outputs": [
        {
          "output_type": "stream",
          "name": "stdout",
          "text": [
            "15\n",
            "5\n",
            "50\n",
            "2.0\n"
          ]
        }
      ]
    },
    {
      "cell_type": "markdown",
      "source": [
        "8) Write a program to demonstrate the use of logical operators."
      ],
      "metadata": {
        "id": "_iatpqRZtR0v"
      }
    },
    {
      "cell_type": "code",
      "source": [
        "# Logical Operators Demonstration\n",
        "\n",
        "# Define variables\n",
        "a = True\n",
        "b = False\n",
        "\n",
        "# Using 'and' operator\n",
        "print(\"a and b:\", a and b)  # False (Both must be True)\n",
        "\n",
        "# Using 'or' operator\n",
        "print(\"a or b:\", a or b)  # True (At least one must be True)\n",
        "\n",
        "# Using 'not' operator\n",
        "print(\"not a:\", not a)  # False (Reverses the value)\n",
        "print(\"not b:\", not b)  # True (Reverses the value)\n",
        "\n",
        "# Example with numbers\n",
        "x = 10\n",
        "y = 5\n",
        "\n",
        "print(\"\\n(x > 5 and y < 10):\", x > 5 and y < 10)  # True\n",
        "print(\"(x < 5 or y < 10):\", x < 5 or y < 10)  # True\n",
        "print(\"not(x == 10):\", not (x == 10))  # False"
      ],
      "metadata": {
        "colab": {
          "base_uri": "https://localhost:8080/"
        },
        "id": "zRf77Pcftq79",
        "outputId": "80538911-5705-4158-f565-579a899e9833"
      },
      "execution_count": 13,
      "outputs": [
        {
          "output_type": "stream",
          "name": "stdout",
          "text": [
            "a and b: False\n",
            "a or b: True\n",
            "not a: False\n",
            "not b: True\n",
            "\n",
            "(x > 5 and y < 10): True\n",
            "(x < 5 or y < 10): True\n",
            "not(x == 10): False\n"
          ]
        }
      ]
    },
    {
      "cell_type": "markdown",
      "source": [
        "9) Write a Python program to convert user input from string to integer, float, and boolean types."
      ],
      "metadata": {
        "id": "JsBkcqx0t5wR"
      }
    },
    {
      "cell_type": "code",
      "source": [
        "a=10\n",
        "type(a)"
      ],
      "metadata": {
        "colab": {
          "base_uri": "https://localhost:8080/"
        },
        "id": "QKvXj_MYrnjg",
        "outputId": "83e3ee44-82cc-426a-95ab-8840f090a96f"
      },
      "execution_count": 15,
      "outputs": [
        {
          "output_type": "execute_result",
          "data": {
            "text/plain": [
              "int"
            ]
          },
          "metadata": {},
          "execution_count": 15
        }
      ]
    },
    {
      "cell_type": "code",
      "source": [
        "str (a)"
      ],
      "metadata": {
        "colab": {
          "base_uri": "https://localhost:8080/",
          "height": 36
        },
        "id": "GihVfHv_uv2C",
        "outputId": "fd22a9c5-4300-44bb-9e0b-0b8bc217872c"
      },
      "execution_count": 16,
      "outputs": [
        {
          "output_type": "execute_result",
          "data": {
            "text/plain": [
              "'10'"
            ],
            "application/vnd.google.colaboratory.intrinsic+json": {
              "type": "string"
            }
          },
          "metadata": {},
          "execution_count": 16
        }
      ]
    },
    {
      "cell_type": "code",
      "source": [
        "float(a)"
      ],
      "metadata": {
        "colab": {
          "base_uri": "https://localhost:8080/"
        },
        "id": "PrClDLr_uy-d",
        "outputId": "52f3d924-7299-441e-c42c-507aa36fd62b"
      },
      "execution_count": 17,
      "outputs": [
        {
          "output_type": "execute_result",
          "data": {
            "text/plain": [
              "10.0"
            ]
          },
          "metadata": {},
          "execution_count": 17
        }
      ]
    },
    {
      "cell_type": "code",
      "source": [
        "bool (a)"
      ],
      "metadata": {
        "colab": {
          "base_uri": "https://localhost:8080/"
        },
        "id": "C9b7VJKRu2c4",
        "outputId": "c2835cf2-50ee-4ffb-d98d-1431f49ce1ef"
      },
      "execution_count": 18,
      "outputs": [
        {
          "output_type": "execute_result",
          "data": {
            "text/plain": [
              "True"
            ]
          },
          "metadata": {},
          "execution_count": 18
        }
      ]
    },
    {
      "cell_type": "markdown",
      "source": [
        "10) Write code to demonstrate type casting with list elements."
      ],
      "metadata": {
        "id": "srNPhmDqu_-R"
      }
    },
    {
      "cell_type": "code",
      "source": [
        "d=[1,20,40,\"dsai\"]\n",
        "d[0]=\"1\"\n",
        "d"
      ],
      "metadata": {
        "colab": {
          "base_uri": "https://localhost:8080/"
        },
        "id": "7QJ4xe0Lu7a6",
        "outputId": "6d2f51e6-52bd-4d72-dc2c-1b5a3a1b96e5"
      },
      "execution_count": 20,
      "outputs": [
        {
          "output_type": "execute_result",
          "data": {
            "text/plain": [
              "['1', 20, 40, 'dsai']"
            ]
          },
          "metadata": {},
          "execution_count": 20
        }
      ]
    },
    {
      "cell_type": "code",
      "source": [
        "d[1]=float\n",
        "d"
      ],
      "metadata": {
        "colab": {
          "base_uri": "https://localhost:8080/"
        },
        "id": "4DeWKBKbwHeY",
        "outputId": "b51276b2-3160-4e79-edd3-b412ab86be2e"
      },
      "execution_count": 21,
      "outputs": [
        {
          "output_type": "execute_result",
          "data": {
            "text/plain": [
              "['1', float, 40, 'dsai']"
            ]
          },
          "metadata": {},
          "execution_count": 21
        }
      ]
    },
    {
      "cell_type": "code",
      "source": [
        "d[1]=20.0"
      ],
      "metadata": {
        "id": "7A-ArzEywWSy"
      },
      "execution_count": 25,
      "outputs": []
    },
    {
      "cell_type": "code",
      "source": [
        "d"
      ],
      "metadata": {
        "colab": {
          "base_uri": "https://localhost:8080/"
        },
        "id": "UaSXXSAAwcOu",
        "outputId": "8b7404f4-f497-4e67-b7cc-58ca3a7d407c"
      },
      "execution_count": 26,
      "outputs": [
        {
          "output_type": "execute_result",
          "data": {
            "text/plain": [
              "['1', 20.0, 40, 'dsai']"
            ]
          },
          "metadata": {},
          "execution_count": 26
        }
      ]
    },
    {
      "cell_type": "markdown",
      "source": [
        "11) Write a program that checks if a number is positive, negative, or zero"
      ],
      "metadata": {
        "id": "dKX4VRMowvZb"
      }
    },
    {
      "cell_type": "code",
      "source": [
        "# Get user input\n",
        "num = float(input(\"Enter a number: \"))\n",
        "\n",
        "# Check if the number is positive, negative, or zero\n",
        "if num > 0:\n",
        "    print(\"The number is positive.\")\n",
        "elif num < 0:\n",
        "    print(\"The number is negative.\")\n",
        "else:\n",
        "    print(\"The number is zero.\")"
      ],
      "metadata": {
        "colab": {
          "base_uri": "https://localhost:8080/"
        },
        "id": "QXHZc_yQxC9h",
        "outputId": "54f3484a-b8d6-498f-e678-ec05f04af217"
      },
      "execution_count": 27,
      "outputs": [
        {
          "output_type": "stream",
          "name": "stdout",
          "text": [
            "Enter a number: 20.5\n",
            "The number is positive.\n"
          ]
        }
      ]
    },
    {
      "cell_type": "markdown",
      "source": [
        "12)Write a for loop to print numbers from 1 to 10"
      ],
      "metadata": {
        "id": "uX-KQoOnwvVq"
      }
    },
    {
      "cell_type": "code",
      "source": [
        "for i in range(1, 11):\n",
        "    print(i)"
      ],
      "metadata": {
        "colab": {
          "base_uri": "https://localhost:8080/"
        },
        "id": "tecwImmCxmbY",
        "outputId": "c1bb261e-b9e2-40c2-fdc7-0741e61fcda4"
      },
      "execution_count": 28,
      "outputs": [
        {
          "output_type": "stream",
          "name": "stdout",
          "text": [
            "1\n",
            "2\n",
            "3\n",
            "4\n",
            "5\n",
            "6\n",
            "7\n",
            "8\n",
            "9\n",
            "10\n"
          ]
        }
      ]
    },
    {
      "cell_type": "markdown",
      "source": [
        "13) Write a Python program to find the sum of all even numbers between 1 and 50."
      ],
      "metadata": {
        "id": "lusRMfcwxq2W"
      }
    },
    {
      "cell_type": "code",
      "source": [
        "# Using a for loop\n",
        "even_sum = 0\n",
        "\n",
        "for num in range(2, 51, 2):  # Start at 2, go up to 50, step by 2\n",
        "    even_sum += num\n",
        "\n",
        "print(\"Sum of even numbers between 1 and 50:\", even_sum)"
      ],
      "metadata": {
        "colab": {
          "base_uri": "https://localhost:8080/"
        },
        "id": "tYpwDwRDx_53",
        "outputId": "6bdb78fe-bc74-467e-da5d-3860c09f1f88"
      },
      "execution_count": 29,
      "outputs": [
        {
          "output_type": "stream",
          "name": "stdout",
          "text": [
            "Sum of even numbers between 1 and 50: 650\n"
          ]
        }
      ]
    },
    {
      "cell_type": "markdown",
      "source": [
        "14)Write a program to reverse a string using a while loop"
      ],
      "metadata": {
        "id": "Tdmn0kaIyK55"
      }
    },
    {
      "cell_type": "code",
      "source": [
        "# Get user input\n",
        "string = input(\"Enter a string: \")\n",
        "\n",
        "# Initialize variables\n",
        "reversed_string = \"\"\n",
        "index = len(string) - 1  # Start from the last character\n",
        "\n",
        "# Reverse the string using a while loop\n",
        "while index >= 0:\n",
        "    reversed_string += string[index]  # Append characters in reverse order\n",
        "    index -= 1  # Move to the previous character\n",
        "\n",
        "# Print the reversed string\n",
        "print(\"Reversed string:\", reversed_string)"
      ],
      "metadata": {
        "colab": {
          "base_uri": "https://localhost:8080/"
        },
        "id": "3bIREHNeymNv",
        "outputId": "074a8481-e096-45d3-804a-27765fa934d9"
      },
      "execution_count": 30,
      "outputs": [
        {
          "output_type": "stream",
          "name": "stdout",
          "text": [
            "Enter a string: Divyaraj\n",
            "Reversed string: jarayviD\n"
          ]
        }
      ]
    },
    {
      "cell_type": "markdown",
      "source": [
        "Write a Python program to calculate the factorial of a number provided by the user using a while loop"
      ],
      "metadata": {
        "id": "8lnithyByygx"
      }
    },
    {
      "cell_type": "code",
      "source": [
        "# Get user input\n",
        "num = int(input(\"Enter a number: \"))\n",
        "\n",
        "# Initialize variables\n",
        "factorial = 1\n",
        "i = num\n",
        "\n",
        "# Calculate factorial using while loop\n",
        "while i > 0:\n",
        "    factorial *= i  # Multiply current value\n",
        "    i -= 1  # Decrease the counter\n",
        "\n",
        "# Print the result\n",
        "print(f\"Factorial of {num} is {factorial}\")"
      ],
      "metadata": {
        "colab": {
          "base_uri": "https://localhost:8080/"
        },
        "id": "9xCsrVsJy0M-",
        "outputId": "6d3bb721-fc37-4ff4-f88d-01f3b38ee00d"
      },
      "execution_count": 31,
      "outputs": [
        {
          "output_type": "stream",
          "name": "stdout",
          "text": [
            "Enter a number: 10\n",
            "Factorial of 10 is 3628800\n"
          ]
        }
      ]
    },
    {
      "cell_type": "code",
      "source": [],
      "metadata": {
        "id": "5ZgRmu9-wgHW"
      },
      "execution_count": null,
      "outputs": []
    }
  ]
}